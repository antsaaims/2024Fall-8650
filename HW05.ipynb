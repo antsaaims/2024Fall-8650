{
 "cells": [
  {
   "cell_type": "markdown",
   "metadata": {},
   "source": [
    "# HW05 - Exploring Trees/Graphs\n",
    "\n",
    "YOUR NAME: __________________"
   ]
  },
  {
   "cell_type": "code",
   "execution_count": null,
   "metadata": {},
   "outputs": [],
   "source": [
    "# here is a list of edges:\n",
    "T = [('Bob','Eve'),('Alice','Carol'),('Eve','Frank'),('Alice','Doug'),('Frank','Ginger'), \\\n",
    "         ('Eve','Howard'),('Carol','Irene'),('Frank','Jeff'),('Doug','Kathy'),('Bob','Luis'), \\\n",
    "         ('Alice','Bob'),('Bob','Mabel'),('Ginger','Norm'),('Howard','Oprah'),('Carol','Peter'), \\\n",
    "         ('Kathy','Queen'),('Mabel','Ursala'),('Luis','Ronald'),('Ginger','Sarah'),('Irene','Tom'), \\\n",
    "         ('Jeff','Vince'),('Peter','Wanda'),('Oprah','Xanthia'),('Norm','Yaakov'),('Luis','Zandra')]\n",
    "\n",
    "print ('T has',len(T),'edges')\n",
    "vertices = set()\n",
    "for edge in T:\n",
    "    s,t = edge\n",
    "    vertices.add(s)\n",
    "    vertices.add(t)\n",
    "print ('T has',len(vertices),'vertices')"
   ]
  },
  {
   "cell_type": "markdown",
   "metadata": {},
   "source": [
    "So this could be a tree. Now lets compute the number of parents for each vertex. The result confirms that we indeed have a tree and that the root is Alice (right?)."
   ]
  },
  {
   "cell_type": "code",
   "execution_count": null,
   "metadata": {},
   "outputs": [],
   "source": [
    "np = {} # a dictionary that maps vertex to the number of incoming edges\n",
    "for v in vertices:\n",
    "    np[v] = 0\n",
    "for parent,child in T:\n",
    "    np[child] += 1\n",
    "print (np)"
   ]
  },
  {
   "cell_type": "markdown",
   "metadata": {},
   "source": [
    "We now construct a dictionary of pairs (p,c) where p is the parent of the list of children c"
   ]
  },
  {
   "cell_type": "code",
   "execution_count": null,
   "metadata": {},
   "outputs": [],
   "source": [
    "adjacency_map = {}\n",
    "for v in vertices:\n",
    "    adjacency_map[v] = []\n",
    "for p,c in T:\n",
    "    adjacency_map[p].append(c)\n",
    "    #you can also do adjacency_map[c].append(p) to treat T as undirected edge list:\n",
    "    #adjacency_map[c].append(p)\n",
    "\n",
    "print (\"node and their children:\")\n",
    "for p in adjacency_map:\n",
    "    print (p, \":\", adjacency_map[p])\n",
    "\n",
    "print ()\n",
    "print (adjacency_map)"
   ]
  },
  {
   "cell_type": "code",
   "execution_count": null,
   "metadata": {},
   "outputs": [],
   "source": [
    "print (5*\"Hello!\")"
   ]
  },
  {
   "cell_type": "code",
   "execution_count": null,
   "metadata": {},
   "outputs": [],
   "source": [
    "# A recursive depth-first traversal of a tree defined by an adjacency_map\n",
    "def print_tree_depth_first(parent, adjacency_map, level=0):\n",
    "    print (level*'  ', parent)\n",
    "    children = adjacency_map[parent]\n",
    "    for child in children:\n",
    "        print_tree_depth_first(child, adjacency_map, level+1)\n",
    "\n",
    "root = 'Alice'\n",
    "print_tree_depth_first(root, adjacency_map)"
   ]
  },
  {
   "cell_type": "markdown",
   "metadata": {},
   "source": [
    "## Question 1\n",
    "extend the breadth-first traversal to include the generation, so that the output is like below. Do this by also storing the generation in the queue."
   ]
  },
  {
   "cell_type": "raw",
   "metadata": {},
   "source": [
    "1: Alice\n",
    "2: Carol\n",
    "2: Doug\n",
    "2: Bob\n",
    "3: ..."
   ]
  },
  {
   "cell_type": "code",
   "execution_count": null,
   "metadata": {},
   "outputs": [],
   "source": [
    "from collections import deque \n",
    "am={\"A\":[\"B\",\"D\",\"E\"], \"B\":[\"C\"], \"E\":[\"F\"], \"D\":[], \"F\":[], \"C\":[]}\n",
    "            \n",
    "# breadth-first traversal using a queue\n",
    "def print_tree_breadth_first(root, adjacency_map):\n",
    "    Q = deque()\n",
    "    Q.append(root)\n",
    "    while len(Q)>0:\n",
    "        p = Q.popleft()\n",
    "        print (p)\n",
    "        children = adjacency_map[p]\n",
    "        for child in children:\n",
    "            Q.append(child)\n",
    "            \n",
    "print_tree_breadth_first(\"A\", am)\n",
    "\n",
    "def print_tree_breadth_first_by_generation(root, adjacency_map):\n",
    "    pass # TODO\n",
    "\n",
    "\n",
    "print_tree_breadth_first_by_generation(\"Alice\", adjacency_map)"
   ]
  },
  {
   "cell_type": "markdown",
   "metadata": {},
   "source": [
    "## Question 2\n",
    "Write a function that checks if for the given directed graph (given by a list of edges E) root is connected to every other vertex."
   ]
  },
  {
   "cell_type": "code",
   "execution_count": null,
   "metadata": {},
   "outputs": [],
   "source": [
    "def all_connected_to(edge_list, root):\n",
    "    \"\"\" return true if you can reach all nodes in the graph given\n",
    "    by a list of edges (edge_list) from root \"\"\"\n",
    "    \n",
    "    # start by constructing set of vertices and the adjacency map\n",
    "    \n",
    "    \n",
    "    return True\n",
    "    "
   ]
  },
  {
   "cell_type": "code",
   "execution_count": null,
   "metadata": {},
   "outputs": [],
   "source": [
    "G = [(\"A\",\"B\"), (\"B\",\"C\")]\n",
    "print (all_connected_to(G, \"A\"))\n",
    "G2 = [(\"1\",\"2\"), (\"A\",\"B\"), (\"B\",\"C\"), (\"C\",\"A\")]\n",
    "print (all_connected_to(G2, \"A\"))\n",
    "print (all_connected_to(G2, \"1\"))\n",
    "G3 = [(\"A\",\"B\"), (\"B\",\"C\"), (\"C\",\"A\")]\n",
    "print (all_connected_to(G3, \"C\"))\n",
    "# and our graph from above?\n",
    "print (all_connected_to(T, \"Alice\"))"
   ]
  },
  {
   "cell_type": "markdown",
   "metadata": {},
   "source": [
    "## Question 3\n",
    "We now treat the the graph T from above as undirected (edges going in both directions) and construct a tree rooted in Bob. The tree will contain edges from a vertex to the parent and direct children. The result will tell us how far removed the vertices from our root Bob are."
   ]
  },
  {
   "cell_type": "code",
   "execution_count": null,
   "metadata": {},
   "outputs": [],
   "source": [
    "root = 'Bob'\n",
    "\n",
    "# construct adjacency for graph T:\n",
    "adjacency_map = {}\n",
    "for vertex in vertices:\n",
    "    adjacency_map[vertex] = []\n",
    "for edge in T:\n",
    "    s,t = edge\n",
    "    adjacency_map[s].append(t)\n",
    "    adjacency_map[t].append(s)\n",
    "    \n",
    "print (\"parents/children of Ginger:\", adjacency_map['Ginger'])\n",
    "print (adjacency_map)\n",
    "\n",
    "# now create the adjacency map of the tree rooted in 'Bob'\n",
    "tree = {}\n",
    "\n",
    "#TODO: construct tree by using a queue\n",
    "\n",
    "print (tree)"
   ]
  },
  {
   "cell_type": "markdown",
   "metadata": {},
   "source": [
    "Execute the following two blocks to check your result:"
   ]
  },
  {
   "cell_type": "code",
   "execution_count": null,
   "metadata": {},
   "outputs": [],
   "source": [
    "print_tree_depth_first(root, tree)"
   ]
  },
  {
   "cell_type": "code",
   "execution_count": null,
   "metadata": {},
   "outputs": [],
   "source": [
    "print_tree_breadth_first(root, tree)"
   ]
  },
  {
   "cell_type": "markdown",
   "metadata": {},
   "source": [
    "## Question 4: n queens problem\n",
    "Backtracking is the technique of recursively exploring the tree that contains all the possible solutions to a problem. Choose a systematic way to explore all the possible cases. This approach should reflect a rooted tree, and the backtracking approach is a depth-first search of the rooted tree. Whenever the search has found a solution or determined that there are no further solutions on the branches below the current vertex, backtrack to the preceeding vertex. \n",
    "\n",
    "A classic example of a problem that can be easily solved with this approach is the n queens problem.  This problem is to determine all the possible ways to place n nonattacking queens on an n-by-n chess board. The following code provides two helpful routines for this problem and illustrates one of the solutions for the 4 queens problem."
   ]
  },
  {
   "cell_type": "code",
   "execution_count": null,
   "metadata": {},
   "outputs": [],
   "source": [
    "import numpy as np\n",
    "\n",
    "def build_chessboard(N):\n",
    "    chessboard = np.zeros((N,N))\n",
    "    return chessboard\n",
    "\n",
    "def print_chessboard(chessboard):\n",
    "    N = len(chessboard)\n",
    "    for r in range(N):\n",
    "        for c in range(N):\n",
    "            if chessboard[r,c] == 1:\n",
    "                print ('Q', end=\"\")\n",
    "            else:\n",
    "                print ('.', end=\"\")\n",
    "        print ()\n",
    "    print ()\n",
    "\n",
    "# generate an empty 4x4 chessboard:\n",
    "chessboard = build_chessboard(4)\n",
    "print (chessboard)\n",
    "\n",
    "# Place 4 non-attacking queens on this board\n",
    "chessboard[1,0] = 1\n",
    "chessboard[3,1] = 1\n",
    "chessboard[0,2] = 1\n",
    "chessboard[2,3] = 1\n",
    "\n",
    "# Pretty print the resulting board\n",
    "print_chessboard(chessboard)"
   ]
  },
  {
   "cell_type": "markdown",
   "metadata": {},
   "source": [
    "Complete the following code to solve the n queens problem by returning the total number of solutions while printing only the first five solutions."
   ]
  },
  {
   "cell_type": "code",
   "execution_count": null,
   "metadata": {},
   "outputs": [],
   "source": [
    "def n_queens(chessboard, column=0, count=0):\n",
    "    \"\"\" given a partially filled <chessboard>, try to place a queen in column <column> and recursively fill the board.\n",
    "    Finally return the number of solutions (added to <count>)\"\"\"\n",
    "    N = len(chessboard)\n",
    "    if column == N:\n",
    "        if count < 5:\n",
    "            print_chessboard(chessboard)\n",
    "        return 1\n",
    "    \n",
    "    # Examine all available squares in column <column>, place the queen, and \n",
    "    # mark all squares under attack by that queen.\n",
    "    # Note: you can make a copy of a chessboard using chessboard.copy()\n",
    "    \n",
    "    # TODO\n",
    "    \n",
    "    return count\n",
    "\n",
    "chessboard = build_chessboard(5)\n",
    "count = n_queens(chessboard)\n",
    "print (\"solutions: \", count)"
   ]
  },
  {
   "cell_type": "code",
   "execution_count": null,
   "metadata": {},
   "outputs": [],
   "source": [
    "# This example shows why .copy() is needed in your code above (reference semantics!)\n",
    "def test(cb):\n",
    "    cb[0,0]=1\n",
    "    print_chessboard(cb)\n",
    "    \n",
    "chessboard = build_chessboard(4)\n",
    "print_chessboard(chessboard)\n",
    "test(chessboard)# try chessboard.copy() instead\n",
    "print_chessboard(chessboard)  # oooops!"
   ]
  },
  {
   "cell_type": "code",
   "execution_count": null,
   "metadata": {},
   "outputs": [],
   "source": [
    "import copy\n",
    "\n",
    "# copy makes a copy of the outer-most object, but keeps the same references to the inner\n",
    "# object.\n",
    "a=[2,4,[6]]\n",
    "print (\"before: a=\", a)\n",
    "\n",
    "#not copying:\n",
    "a=[2,4,[6]]\n",
    "b=a\n",
    "b[0]+=1\n",
    "b[2][0]+=3\n",
    "print (\"after:  a=\",a,\" b=\", b, \" (not copying)\")\n",
    "\n",
    "# using copy:\n",
    "a=[2,4,[6]]\n",
    "b=copy.copy(a)\n",
    "b[0]+=1\n",
    "b[2][0]+=3\n",
    "print (\"after:  a=\",a,\" b=\", b, \" (using copy)\")\n",
    "\n",
    "# deepcopy also makes a copy of each contained element (recursively)\n",
    "a=[2,4,[6]]\n",
    "b=copy.deepcopy(a)\n",
    "b[0]+=1\n",
    "b[2][0]+=3\n",
    "print (\"after:  a=\",a,\" b=\", b, \" (using deepcopy)\")"
   ]
  },
  {
   "cell_type": "code",
   "execution_count": null,
   "metadata": {},
   "outputs": [],
   "source": []
  }
 ],
 "metadata": {
  "kernelspec": {
   "display_name": "Python 3 (ipykernel)",
   "language": "python",
   "name": "python3"
  },
  "language_info": {
   "codemirror_mode": {
    "name": "ipython",
    "version": 3
   },
   "file_extension": ".py",
   "mimetype": "text/x-python",
   "name": "python",
   "nbconvert_exporter": "python",
   "pygments_lexer": "ipython3",
   "version": "3.13.0"
  },
  "name": "HW05.ipynb"
 },
 "nbformat": 4,
 "nbformat_minor": 4
}
