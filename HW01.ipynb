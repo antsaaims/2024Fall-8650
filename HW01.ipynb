{
 "cells": [
  {
   "cell_type": "markdown",
   "metadata": {},
   "source": [
    "# Homework 01\n",
    "\n",
    "Please fill in your name: ____________"
   ]
  },
  {
   "cell_type": "markdown",
   "metadata": {},
   "source": [
    "## Question 0\n",
    "\n",
    "Fill in your name at the top and complete the instructions for the questions below. You need to fill in blanks ________ and write code (sections often contain a comment that begins with \"TODO\", which you should remove). When you are done, download the file as a .ipynb and submit on Canvas.\n",
    "\n",
    "Before starting with this assignment, open and work through \"python-intro.ipynb\" and read up on things you don't understand. See the Python Tutorial PDF on Canvas for more information."
   ]
  },
  {
   "cell_type": "markdown",
   "metadata": {},
   "source": [
    "## Question 1\n",
    "I demonstrated in class that the integer data type in Python is not a typical 32 or 64 bit integer with a largest value of $2^{32}$ or $2^{64}$ but basically unlimited in size.\n",
    "\n",
    "Find out the format Python is using to store floating point numbers like 3.4 (unlimited precision? What IEEE floating point standard is used, 32 or 64 or something else? Write your answer below) and do a computation that demonstrates that this is true.    "
   ]
  },
  {
   "cell_type": "code",
   "execution_count": null,
   "metadata": {},
   "outputs": [],
   "source": [
    "x=3.4\n",
    "print(type(x))\n",
    "\n",
    "# the number format \"float\" is known as: _________ with ____ bits in total\n",
    "\n",
    "# a python object of type float consumes how many bytes?\n",
    "\n",
    "# Show that your statement above is correct using some expression or\n",
    "# computation that shows the precision of the underlying format:\n",
    "\n",
    "# TODO\n",
    "\n",
    "# Bonus: why do you think Python uses a fixed size floating point\n",
    "# format, but has its own unlimited int format?"
   ]
  },
  {
   "cell_type": "markdown",
   "metadata": {},
   "source": [
    "## Question 2\n",
    "Write a function hey_ho() with arguments start and end that prints the numbers starting from start to end (inclusive) in a single line each. If the number is divisible by 3, print \"hey!\" instead of the number, if the number is divisible by 5 print \"ho!\". Finally, if it is divisible by both, print \"GO Tigers!\" instead.\n",
    "Example for hey_ho(7,16):"
   ]
  },
  {
   "cell_type": "raw",
   "metadata": {},
   "source": [
    "7\n",
    "8\n",
    "hey!\n",
    "ho!\n",
    "11\n",
    "hey!\n",
    "13\n",
    "14\n",
    "GO Tigers!"
   ]
  },
  {
   "cell_type": "code",
   "execution_count": null,
   "metadata": {},
   "outputs": [],
   "source": [
    "def hey_ho(start, end):\n",
    "    # TODO: your implementation here\n",
    "    print('hello world')\n",
    "    \n",
    "hey_ho(7,15)"
   ]
  },
  {
   "cell_type": "markdown",
   "metadata": {},
   "source": [
    "# Question 3\n",
    "\n",
    "We discussed that the size of the number of allocated entries inside a Python \"list\" often is larger than absolutely necessary. Consider the case of adding one element at a time to an empty list x until it contains 100 elements. Based on the code in \"python-list-layout.ipynb\", print the final allocated size and count how many allocations happen during the computation by comparing the allocated size to the previous allocated size after each element is added."
   ]
  },
  {
   "cell_type": "code",
   "execution_count": null,
   "metadata": {},
   "outputs": [],
   "source": [
    "import ctypes\n",
    "\n",
    "class ListStruct(ctypes.Structure): # struct PyListObject\n",
    "    _fields_ = [(\"ob_refcnt\", ctypes.c_long),\n",
    "                (\"ob_type\", ctypes.c_void_p),\n",
    "                (\"ob_size\", ctypes.c_ulong),\n",
    "                (\"ob_item\", ctypes.c_long),  # PyObject** pointer cast to long\n",
    "                (\"allocated\", ctypes.c_ulong)]\n",
    "\n",
    "x = []\n",
    "x.append(1)\n",
    "x.append(1)\n",
    "x.append(1)\n",
    "x.append(1)\n",
    "x.append(1)\n",
    "\n",
    "info = ListStruct.from_address(id(x))\n",
    "print(type(x), info.ob_refcnt, info.ob_size, info.allocated)\n",
    "\n",
    "# TODO: print the final allocated numer of items\n",
    "# TODO: print the total number of allocations that occured (how many times did the allocated size change?)"
   ]
  }
 ],
 "metadata": {
  "kernelspec": {
   "display_name": "Python 3 (ipykernel)",
   "language": "python",
   "name": "python3"
  },
  "language_info": {
   "codemirror_mode": {
    "name": "ipython",
    "version": 3
   },
   "file_extension": ".py",
   "mimetype": "text/x-python",
   "name": "python",
   "nbconvert_exporter": "python",
   "pygments_lexer": "ipython3",
   "version": "3.10.5"
  }
 },
 "nbformat": 4,
 "nbformat_minor": 4
}
