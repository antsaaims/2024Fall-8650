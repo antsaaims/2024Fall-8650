{
 "cells": [
  {
   "cell_type": "markdown",
   "metadata": {},
   "source": [
    "# Homework 02\n",
    "\n",
    "Please fill in: YOUR_NAME_HERE"
   ]
  },
  {
   "cell_type": "markdown",
   "metadata": {},
   "source": [
    "The goal of this homework is to understand iterative and recursive algorithms and complexity. We are using Pell Numbers as an example. They are defined as:\n",
    "$$\n",
    "    P_n = \\begin{cases} 0 & n=0 \\\\ 1 & n=1 \\\\ P_{n-2} + 2P_{n-1} & \\text{else} \\end{cases}\n",
    "$$"
   ]
  },
  {
   "cell_type": "markdown",
   "metadata": {},
   "source": [
    "## Question 1\n",
    "\n",
    "Write a function print_elements(l) that prints every element of the list L, one item per line. If an element is a list by itself, recursively call print_elements() for this element instead. To find out if a variable x is a list, use type(x). Note that the function should not return anything!"
   ]
  },
  {
   "cell_type": "code",
   "execution_count": null,
   "metadata": {},
   "outputs": [],
   "source": [
    "def print_elements(L):\n",
    "    pass # TODO: replace this\n",
    "\n",
    "print_elements([[1,\"hello\"], 3, [4,5,6],[1,[2,[3]]]])"
   ]
  },
  {
   "cell_type": "markdown",
   "metadata": {},
   "source": [
    "## Question 2\n",
    "\n",
    "Write pell_recursive(n) that returns the n-th Pell number as a recursive function using the definition above."
   ]
  },
  {
   "cell_type": "code",
   "execution_count": null,
   "metadata": {},
   "outputs": [],
   "source": [
    "def pell_recursive(n):\n",
    "    return 1 # TODO: replace this\n",
    "\n",
    "print ([pell_recursive(n) for n in range(0,20)])"
   ]
  },
  {
   "cell_type": "markdown",
   "metadata": {},
   "source": [
    "### Question 3\n",
    "Write a function pell_recursive_cost(n) that returns the total number of times the function pell_recursive() is called for a given n (it should be 1 for n=0 and n=1, and 3 for n=2, ...). pell_recursive_cost() is itself a recursive function (that does not use pell_recursive()). What sequence is that (see https://oeis.org/)? What is the complexity of pell_recursive(n)? Is it polynomial?"
   ]
  },
  {
   "cell_type": "code",
   "execution_count": null,
   "metadata": {},
   "outputs": [],
   "source": [
    "def pell_recursive_cost(n):\n",
    "    return 1 # TODO: replace this\n",
    "\n",
    "print ([pell_recursive_cost(n) for n in range(0,20)])\n",
    "\n",
    "# this sequence is known as ______\n",
    "# complexity is ______\n",
    "# complexity  _____   (is / is not) polynomial"
   ]
  },
  {
   "cell_type": "markdown",
   "metadata": {},
   "source": [
    "## Question 4\n",
    "Write a function pell_iterative(n) that returns the n-th Pell number using an iterative approach (that does not recompute P_2 more than once when computing P_5 for example and that does not require O(n) storage). Check your result."
   ]
  },
  {
   "cell_type": "code",
   "execution_count": null,
   "metadata": {},
   "outputs": [],
   "source": [
    "def pell_iterative(n):\n",
    "    return 1 # TODO: replace this\n",
    "\n",
    "print ([pell_iterative(n) for n in range(0,20)])"
   ]
  },
  {
   "cell_type": "markdown",
   "metadata": {},
   "source": [
    "## Question 5\n",
    "Write a function pell_iterative_cost(n) that returns total the number of additions and multiplications done to compute pell_iterative(n). What is the complexity of pell_iterative(n)?"
   ]
  },
  {
   "cell_type": "code",
   "execution_count": null,
   "metadata": {},
   "outputs": [],
   "source": [
    "def pell_iterative_cost(n):\n",
    "    return 1 # TODO: replace this\n",
    "\n",
    "print ([pell_iterative_cost(n) for n in range(0,20)])\n",
    "\n",
    "# complexity is: ________"
   ]
  },
  {
   "cell_type": "markdown",
   "metadata": {},
   "source": [
    "## Question 6\n",
    "Look up Pell number on wikipedia and find the direct formula and implement it as pell_direct(n) (you should round your answer using round()). Find the smallest n where the direct formula is no longer accurate. Explain why."
   ]
  },
  {
   "cell_type": "code",
   "execution_count": null,
   "metadata": {},
   "outputs": [],
   "source": [
    "import math # needed for math.sqrt()\n",
    "\n",
    "def pell_direct(n):\n",
    "    return round(1.4) # TODO: replace this\n",
    "\n",
    "print ([ pell_direct(n) for n in range (0,20) ])"
   ]
  },
  {
   "cell_type": "code",
   "execution_count": null,
   "metadata": {},
   "outputs": [],
   "source": [
    "# somehow compare pell_direct(n) and pell_iterative(n) and find smallest n where they differ\n",
    "\n",
    "# TODO\n",
    "\n",
    "# why does this happen for this n?\n",
    "# _____________"
   ]
  },
  {
   "cell_type": "markdown",
   "metadata": {},
   "source": [
    "## Question 7\n",
    "Observe the time it takes to compute $P_{10}, P_{20}, P_{30}$ (There is nothing for you to do here except running the following block)"
   ]
  },
  {
   "cell_type": "code",
   "execution_count": null,
   "metadata": {},
   "outputs": [],
   "source": [
    "for n in [10,20,30]:\n",
    "    print (\"for n =\",n,\":\")\n",
    "    %timeit pell_recursive(n)\n",
    "    %timeit pell_iterative(n)\n",
    "    %timeit pell_direct(n)"
   ]
  }
 ],
 "metadata": {
  "kernelspec": {
   "display_name": "Python 3 (ipykernel)",
   "language": "python",
   "name": "python3"
  },
  "language_info": {
   "codemirror_mode": {
    "name": "ipython",
    "version": 3
   },
   "file_extension": ".py",
   "mimetype": "text/x-python",
   "name": "python",
   "nbconvert_exporter": "python",
   "pygments_lexer": "ipython3",
   "version": "3.10.6"
  }
 },
 "nbformat": 4,
 "nbformat_minor": 4
}
