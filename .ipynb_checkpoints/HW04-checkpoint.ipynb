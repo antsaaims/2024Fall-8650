{
 "cells": [
  {
   "cell_type": "markdown",
   "metadata": {},
   "source": [
    "# Homework 04\n",
    "- read up on abstract data types (list, queue, stack, deque) on wikipedia\n",
    "\n",
    "Please fill in: YOUR_NAME_HERE"
   ]
  },
  {
   "cell_type": "markdown",
   "metadata": {},
   "source": [
    "## Introduction"
   ]
  },
  {
   "cell_type": "code",
   "execution_count": null,
   "metadata": {},
   "outputs": [],
   "source": [
    "# Using a Python list (array), observe what the following functions do:\n",
    "s=[2,3,4]\n",
    "s.append(5)\n",
    "s.insert(0, 1)\n",
    "print (s)\n",
    "print (\"s:\",s)\n",
    "print (\"pop(): \", s.pop())\n",
    "print (\"s:\", s)\n",
    "print (\"pop(): \", s.pop())\n",
    "print (\"s:\", s)\n",
    "print (\"pop(0): \", s.pop(0))\n",
    "print (\"s:\", s)"
   ]
  },
  {
   "cell_type": "code",
   "execution_count": null,
   "metadata": {},
   "outputs": [],
   "source": [
    "# plotting works very similar to MATLAB\n",
    "%matplotlib inline\n",
    "import matplotlib.pyplot as plt\n",
    "x = [10, 50, 100, 150]\n",
    "y = [3, 5, 10, 22]\n",
    "\n",
    "plt.plot(x, y, 'o-')\n",
    "plt.show()"
   ]
  },
  {
   "cell_type": "code",
   "execution_count": null,
   "metadata": {},
   "outputs": [],
   "source": [
    "class MyStack:\n",
    "    \"\"\" simple stack implemented using a Python list (array)\"\"\"\n",
    "    def __init__(self):\n",
    "        self.data = []\n",
    "        \n",
    "    def push(self,x):\n",
    "        self.data.append(x)\n",
    "        \n",
    "    def pop(self):\n",
    "        return self.data.pop()\n",
    "    \n",
    "    def is_empty(self):\n",
    "        return len(self.data) == 0\n",
    "    \n",
    "s = MyStack()\n",
    "s.push(3)\n",
    "s.push(4)\n",
    "s.push(5)\n",
    "print (s.pop(), s.pop(), s.pop())\n",
    "print (s.is_empty())"
   ]
  },
  {
   "cell_type": "code",
   "execution_count": null,
   "metadata": {},
   "outputs": [],
   "source": [
    "def stack_fill_and_empty(n):\n",
    "    S = MyStack()\n",
    "    for item in range(n):\n",
    "        S.push(item)\n",
    "        \n",
    "    while n>0:\n",
    "        S.pop()\n",
    "        n -= 1\n",
    "\n",
    "sizes = [10000, 20000, 40000, 80000, 160000, 320000]\n",
    "for n in sizes:\n",
    "    %timeit stack_fill_and_empty(n)"
   ]
  },
  {
   "cell_type": "code",
   "execution_count": null,
   "metadata": {},
   "outputs": [],
   "source": [
    "import numpy as np\n",
    "def fit_poly(x,y,k):\n",
    "    n = len(x)\n",
    "    x = np.array(x)\n",
    "    y = np.array(y)\n",
    "    A = np.zeros((n,k+1))\n",
    "    for i in range(k+1):\n",
    "        A[:,i] = np.array(x)**i\n",
    "        \n",
    "    c = np.linalg.lstsq(A,y,rcond=None)[0]\n",
    "    misfit = np.linalg.norm(np.dot(A,c)-y)    \n",
    "    return c, misfit"
   ]
  },
  {
   "cell_type": "code",
   "execution_count": null,
   "metadata": {},
   "outputs": [],
   "source": [
    "x = sizes\n",
    "y = [5, 9.96, 19.9, 41, 80, 167]\n",
    "c, misfit = fit_poly(x, y, 1) # find a good coefficient!\n",
    "print (\"coefficients:\",c)\n",
    "print (\"misfit:\", misfit)"
   ]
  },
  {
   "cell_type": "code",
   "execution_count": null,
   "metadata": {},
   "outputs": [],
   "source": [
    "xx = np.linspace(0,1.5*x[-1],100)\n",
    "yy = xx * 0\n",
    "for idx,cc in enumerate(c):\n",
    "    yy = yy + cc*xx**idx\n",
    "\n",
    "plt.plot(x, y, 'o')\n",
    "plt.plot(xx, yy, 'r')\n",
    "plt.show()"
   ]
  },
  {
   "cell_type": "code",
   "execution_count": null,
   "metadata": {},
   "outputs": [],
   "source": [
    "# alternatively fitting f(x)=c0 x^c1:\n",
    "c, misfit = fit_poly(np.log(x),np.log(y),1)\n",
    "print (\"best fitting polynomial:\",np.exp(c[0]),\"x^\",c[1])"
   ]
  },
  {
   "cell_type": "markdown",
   "metadata": {},
   "source": [
    "We can conclude that pushing n elements to the stack and removing them again takes O(n) time. This means each operation is O(1) (on average!) "
   ]
  },
  {
   "cell_type": "markdown",
   "metadata": {},
   "source": [
    "## 1. Test queue operations using a Python list\n",
    "We first use a Python list (dynamically sized array) as an (inefficient) queue. Our test consists of queueing n elements and then dequeueing all of them. Complete the code below, time for different n, create a fit of the right degree and conclude what the cost of queueing and dequeueing one element is."
   ]
  },
  {
   "cell_type": "code",
   "execution_count": null,
   "metadata": {},
   "outputs": [],
   "source": [
    "def fill_and_empty_queue_using_list(n):\n",
    "    L = []\n",
    "    for item in range(n):\n",
    "        # queue item in L (add to end):\n",
    "        pass \n",
    "        \n",
    "    while n>0:\n",
    "        # dequeue item in L (remove from start):\n",
    "        n -= 1\n",
    "\n",
    "sizes = [10000,20000,40000,80000,160000]\n",
    "for n in sizes:\n",
    "    %timeit fill_and_empty_queue_using_list(n)"
   ]
  },
  {
   "cell_type": "code",
   "execution_count": null,
   "metadata": {},
   "outputs": [],
   "source": [
    "x = sizes\n",
    "y = [?,?,?,?,?] # fill\n",
    "c, misfit = fit_poly(x,y,2)\n",
    "print (\"coefficients:\",c )\n",
    "print (\"misfit:\", misfit)\n",
    "\n",
    "xx = np.linspace(0,x[-1],100)\n",
    "yy = xx * 0\n",
    "for idx,cc in enumerate(c):\n",
    "    yy = yy + cc*xx**idx\n",
    "\n",
    "plt.plot(x, y, 'o')\n",
    "plt.plot(xx, yy, 'r')\n",
    "plt.show()"
   ]
  },
  {
   "cell_type": "code",
   "execution_count": null,
   "metadata": {},
   "outputs": [],
   "source": [
    "c, misfit = fit_poly(np.log(x),np.log(y),1)\n",
    "print (\"best fitting polynomial:\",np.exp(c[0]),\"x^\",c[1])"
   ]
  },
  {
   "cell_type": "markdown",
   "metadata": {},
   "source": [
    "fill_and_empty_queue_using_list(n) takes O(????). To conclude:\n",
    "1. enqueue one element (append to a list) takes O(????)\n",
    "2. dequeuing one element (remove from the left) takes O(????)\n",
    "3. while removing the last element in a list takes O(????)."
   ]
  },
  {
   "cell_type": "markdown",
   "metadata": {},
   "source": [
    "## 2. Using a deque\n",
    "First determine the correct functions to call to enqueue (add to the right) and dequeue (pop from the left) an element from a deque. Try it out in the next block (it should print 1, then 2, then 3).\n",
    "Then complete dequeue_fill_and_empty() with those commands, benchmark it, fit a curve, and conclude."
   ]
  },
  {
   "cell_type": "code",
   "execution_count": null,
   "metadata": {},
   "outputs": [],
   "source": [
    "from collections import deque\n",
    "Q = deque()\n",
    "Q.???(1) # enqueue 1\n",
    "Q.???(2) # enqueue 2\n",
    "Q.???(3) # enqueue 3\n",
    "print (Q.???()) # dequeue and print\n",
    "print (Q.???()) # dequeue and print\n",
    "print (Q.???()) # dequeue and print"
   ]
  },
  {
   "cell_type": "code",
   "execution_count": null,
   "metadata": {},
   "outputs": [],
   "source": [
    "def dequeue_fill_and_empty(n):\n",
    "    L = deque()\n",
    "    for item in range(n):\n",
    "        L.???(item) # enqueue\n",
    "        \n",
    "    while n>0:\n",
    "        L.???() # now dequeue\n",
    "        n -= 1\n",
    "\n",
    "sizes = [10000,20000,40000,80000,160000]\n",
    "for n in sizes:\n",
    "    %timeit dequeue_fill_and_empty(n)"
   ]
  },
  {
   "cell_type": "code",
   "execution_count": null,
   "metadata": {},
   "outputs": [],
   "source": [
    "x = sizes\n",
    "y = [?,?,?,?,?] # fill\n",
    "c, misfit = fit_poly(x,y,3)\n",
    "print (\"coefficients:\",c)\n",
    "print (\"misfit:\", misfit)\n",
    "\n",
    "xx = np.linspace(0,x[-1],100)\n",
    "yy = xx * 0\n",
    "for idx,cc in enumerate(c):\n",
    "    yy = yy + cc*xx**idx\n",
    "\n",
    "plt.plot(x, y, 'o')\n",
    "plt.plot(xx, yy, 'r')\n",
    "plt.show()"
   ]
  },
  {
   "cell_type": "markdown",
   "metadata": {},
   "source": [
    "Filling and emptying a queue (n elements) based on Python's deque takes: O(????). Therefore, a single enqueue() or dequeue() takes: O(????). Read up on wikipedia on \"deque\" and state the cost for the operations for:\n",
    "1. add element on left: O(???)\n",
    "2. add element on right: O(???)\n",
    "3. remove element on left: O(???)\n",
    "4. remove element on right: O(???)\n",
    "\n",
    "Is that what you see? ______"
   ]
  },
  {
   "cell_type": "markdown",
   "metadata": {},
   "source": [
    "## Question 3: Now implement a deque using a doubly-linked list\n",
    "Complete the implementation, make sure the tests work, and finally time the operations."
   ]
  },
  {
   "cell_type": "code",
   "execution_count": null,
   "metadata": {},
   "outputs": [],
   "source": [
    "class MyDeque:\n",
    "    \"\"\" a double-ended queue implemented using a linked list\"\"\"\n",
    " \n",
    "    class ListItem:\n",
    "        \"\"\" an item in a doubly-linked list\"\"\"\n",
    "        def __init__(self, x, prev, next):\n",
    "            self.item = x\n",
    "            self.next = next\n",
    "            self.prev = prev\n",
    "\n",
    "    def __init__(self):\n",
    "        self.head = None\n",
    "        self.tail = None\n",
    "        \n",
    "    def push_right(self, x):\n",
    "        if self.head == None:\n",
    "            self.head = MyDeque.ListItem(x,None, None)\n",
    "            self.tail = self.head\n",
    "        else:\n",
    "            n = MyDeque.ListItem(x, self.tail, None)\n",
    "            self.tail.next = n\n",
    "            self.tail = n\n",
    "            \n",
    "    def push_left(self, x):\n",
    "        # TODO\n",
    "        pass\n",
    "   \n",
    "    def pop_left(self):\n",
    "        if self.head == None:\n",
    "            return None\n",
    "        item = self.head.item\n",
    "        \n",
    "        # TODO: actually remove it\n",
    "        \n",
    "        return item\n",
    "    \n",
    "    def pop_right(self):\n",
    "        # TODO\n",
    "        pass\n",
    "    \n",
    "    def print_it(self):\n",
    "        it = self.head\n",
    "        print (\"[[ \", end=\"\")\n",
    "        while it != None:\n",
    "            print (it.item, end=\" \")\n",
    "            it = it.next\n",
    "        print (\"]]\")\n",
    "\n",
    "Q = MyDeque()\n",
    "Q.push_right(1)\n",
    "Q.push_right(2)\n",
    "Q.push_right(3)\n",
    "Q.push_left(0)\n",
    "Q.push_right(4)\n",
    "Q.print_it()\n",
    "print (\"pop_left:\", Q.pop_left())\n",
    "print (\"pop_right:\", Q.pop_right())\n",
    "Q.print_it()\n",
    "print (\"pop_left:\", Q.pop_left())\n",
    "Q.print_it()\n",
    "print (\"pop_left:\", Q.pop_left())\n",
    "print (\"pop_right:\", Q.pop_right())\n",
    "Q.print_it()\n",
    "print (\"pop_left:\", Q.pop_left())\n",
    "print (\"pop_right:\", Q.pop_right())"
   ]
  },
  {
   "cell_type": "code",
   "execution_count": null,
   "metadata": {},
   "outputs": [],
   "source": [
    "# this will create a graphical visualization of the data structure (ignore if this doesn't work)\n",
    "import lolviz\n",
    "Q = MyDeque()\n",
    "Q.push_right(1)\n",
    "Q.push_right(2)\n",
    "Q.push_left(0)\n",
    "lolviz.objviz(Q)"
   ]
  },
  {
   "cell_type": "code",
   "execution_count": null,
   "metadata": {},
   "outputs": [],
   "source": [
    "# some more tests:\n",
    "\n",
    "Q = MyDeque()\n",
    "Q.push_left(1)\n",
    "Q.push_right(2)\n",
    "assert(Q.head.item == 1)\n",
    "assert(Q.tail.item == 2)\n",
    "assert(Q.head.next == Q.tail)\n",
    "assert(Q.head.prev == None)\n",
    "assert(Q.tail.prev == Q.head)\n",
    "assert(Q.pop_right()==2)\n",
    "assert(Q.head.item == 1)\n",
    "assert(Q.head == Q.tail)\n",
    "assert(Q.head.prev == None)\n",
    "assert(Q.head.next == None)\n",
    "assert(Q.pop_right()==1)\n",
    "assert(Q.head == None)\n",
    "assert(Q.tail == None)\n",
    "\n",
    "for n in range(5):\n",
    "    Q.push_right(n)\n",
    "Q.print_it()    \n",
    "for n in range(5):\n",
    "    assert(Q.pop_left()==n)\n",
    "assert(Q.pop_left()==None) \n",
    "\n",
    "for n in range(5):\n",
    "    Q.push_left(n)\n",
    "Q.print_it()\n",
    "for n in range(5):\n",
    "    assert(Q.pop_right()==n)\n",
    "assert(Q.pop_right()==None)\n",
    "\n",
    "for n in range(5):\n",
    "    Q.push_right(n)\n",
    "Q.print_it()\n",
    "for n in range(5):\n",
    "    assert(Q.pop_right()==4-n)\n",
    "    \n",
    "for n in range(5):\n",
    "    Q.push_left(n)\n",
    "Q.print_it()\n",
    "for n in range(5):\n",
    "    assert(Q.pop_left()==4-n)\n",
    "\n",
    "print (\"ok\")"
   ]
  },
  {
   "cell_type": "code",
   "execution_count": null,
   "metadata": {},
   "outputs": [],
   "source": [
    "def test_our_deque(n):\n",
    "    Q = MyDeque()\n",
    "    for idx in range(n):\n",
    "        Q.push_right(n)\n",
    "        Q.push_left(n)\n",
    "        \n",
    "    for idx in range(n):\n",
    "        Q.pop_left()\n",
    "        Q.pop_right()\n",
    "\n",
    "sizes = [10000, 20000, 40000, 80000, 160000]\n",
    "for n in sizes:\n",
    "    %timeit test_our_deque(n)"
   ]
  },
  {
   "cell_type": "markdown",
   "metadata": {},
   "source": [
    "test_our_deque() takes: O(????). Therefore, all operations take O(???) as expected!"
   ]
  }
 ],
 "metadata": {
  "kernelspec": {
   "display_name": "Python 3 (ipykernel)",
   "language": "python",
   "name": "python3"
  },
  "language_info": {
   "codemirror_mode": {
    "name": "ipython",
    "version": 3
   },
   "file_extension": ".py",
   "mimetype": "text/x-python",
   "name": "python",
   "nbconvert_exporter": "python",
   "pygments_lexer": "ipython3",
   "version": "3.10.6"
  },
  "name": "HW04.ipynb"
 },
 "nbformat": 4,
 "nbformat_minor": 4
}
